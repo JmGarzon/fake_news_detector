{
 "cells": [
  {
   "cell_type": "code",
   "execution_count": 50,
   "metadata": {},
   "outputs": [],
   "source": [
    "from pyspark.sql.functions import lit\n",
    "from pyspark.sql.functions import when, col, count\n",
    "from pyspark.sql import SparkSession\n",
    "import os\n",
    "from pyspark.sql import functions as F"
   ]
  },
  {
   "cell_type": "code",
   "execution_count": 51,
   "metadata": {},
   "outputs": [
    {
     "name": "stdout",
     "output_type": "stream",
     "text": [
      "CSV FAKE\n",
      "+--------------------+--------------------+-------+-----------------+\n",
      "|               title|                text|subject|             date|\n",
      "+--------------------+--------------------+-------+-----------------+\n",
      "| Donald Trump Sen...|Donald Trump just...|   News|December 31, 2017|\n",
      "| Drunk Bragging T...|House Intelligenc...|   News|December 31, 2017|\n",
      "| Sheriff David Cl...|On Friday, it was...|   News|December 30, 2017|\n",
      "| Trump Is So Obse...|On Christmas day,...|   News|December 29, 2017|\n",
      "| Pope Francis Jus...|Pope Francis used...|   News|December 25, 2017|\n",
      "| Racist Alabama C...|The number of cas...|   News|December 25, 2017|\n",
      "| Fresh Off The Go...|Donald Trump spen...|   News|December 23, 2017|\n",
      "| Trump Said Some ...|In the wake of ye...|   News|December 23, 2017|\n",
      "| Former CIA Direc...|Many people have ...|   News|December 22, 2017|\n",
      "| WATCH: Brand-New...|Just when you mig...|   News|December 21, 2017|\n",
      "| Papa John’s Foun...|A centerpiece of ...|   News|December 21, 2017|\n",
      "| WATCH: Paul Ryan...|Republicans are w...|   News|December 21, 2017|\n",
      "| Bad News For Tru...|Republicans have ...|   News|December 21, 2017|\n",
      "| WATCH: Lindsey G...|The media has bee...|   News|December 20, 2017|\n",
      "| Heiress To Disne...|Abigail Disney is...|   News|December 20, 2017|\n",
      "| Tone Deaf Trump:...|Donald Trump just...|   News|December 20, 2017|\n",
      "| The Internet Bru...|A new animatronic...|   News|December 19, 2017|\n",
      "| Mueller Spokesma...|Trump supporters ...|   News|December 17, 2017|\n",
      "| SNL Hilariously ...|Right now, the wh...|   News|December 17, 2017|\n",
      "| Republican Senat...|Senate Majority W...|   News|December 16, 2017|\n",
      "+--------------------+--------------------+-------+-----------------+\n",
      "only showing top 20 rows\n",
      "\n",
      "fake_or_real_news\n",
      "+-----+--------------------+--------------------+-----+\n",
      "|   ID|               title|                text|label|\n",
      "+-----+--------------------+--------------------+-----+\n",
      "| 8476|You Can Smell Hil...|Daniel Greenfield...| FAKE|\n",
      "|10294|Watch The Exact M...|Google Pinterest ...| FAKE|\n",
      "| 3608|Kerry to go to Pa...|U.S. Secretary of...| REAL|\n",
      "|10142|Bernie supporters...|— Kaydee King (@K...| FAKE|\n",
      "|  875|The Battle of New...|It's primary day ...| REAL|\n",
      "| 6903|         Tehran, USA|  \\nI’m not an im...| FAKE|\n",
      "| 7341|Girl Horrified At...|Share This Baylee...| FAKE|\n",
      "|   95|‘Britain’s Schind...|A Czech stockbrok...| REAL|\n",
      "| 4869|Fact check: Trump...|Hillary Clinton a...| REAL|\n",
      "| 2909|Iran reportedly m...|Iranian negotiato...| REAL|\n",
      "| 1357|With all three Cl...|CEDAR RAPIDS, Iow...| REAL|\n",
      "|  988|Donald Trump’s Sh...|Donald Trump’s or...| REAL|\n",
      "| 7041|Strong Solar Stor...|Click Here To Lea...| FAKE|\n",
      "| 7623|10 Ways America I...|October 31, 2016 ...| FAKE|\n",
      "| 1571|Trump takes on Cr...|Killing Obama adm...| REAL|\n",
      "| 4739|How women lead di...|As more women mov...| REAL|\n",
      "| 7737|Shocking! Michele...|Shocking! Michele...| FAKE|\n",
      "| 8716|Hillary Clinton i...|0 \\nHillary Clint...| FAKE|\n",
      "| 3304|What's in that Ir...|Washington (CNN) ...| REAL|\n",
      "| 3078|The 1 chart that ...|While paging thro...| REAL|\n",
      "+-----+--------------------+--------------------+-----+\n",
      "only showing top 20 rows\n",
      "\n",
      "news_articles\n",
      "+--------------------+--------------------+--------------------+--------------------+--------+-------------------+--------------------+----+-----+-----------------------+----------------------+--------+\n",
      "|              author|           published|               title|                text|language|           site_url|        main_img_url|type|label|title_without_stopwords|text_without_stopwords|hasImage|\n",
      "+--------------------+--------------------+--------------------+--------------------+--------+-------------------+--------------------+----+-----+-----------------------+----------------------+--------+\n",
      "|   Barracuda Brigade|2016-10-26T21:41:...|muslims busted th...|print they should...| english|100percentfedup.com|http://bb4sp.com/...|bias| Real|   muslims busted st...|  print pay back mo...|       1|\n",
      "|reasoning with facts|2016-10-29T08:47:...|re why did attorn...|why did attorney ...| english|100percentfedup.com|http://bb4sp.com/...|bias| Real|   attorney general ...|  attorney general ...|       1|\n",
      "|   Barracuda Brigade|2016-10-31T01:41:...|breaking weiner c...|red state  \\nfox ...| english|100percentfedup.com|http://bb4sp.com/...|bias| Real|   breaking weiner c...|  red state fox new...|       1|\n",
      "|              Fed Up|2016-11-01T05:22:...|pin drop speech b...|email kayla muell...| english|100percentfedup.com|http://100percent...|bias| Real|   pin drop speech f...|  email kayla muell...|       1|\n",
      "|              Fed Up|2016-11-01T21:56:...|fantastic trumps ...|email healthcare ...| english|100percentfedup.com|http://100percent...|bias| Real|   fantastic trumps ...|  email healthcare ...|       1|\n",
      "|   Barracuda Brigade|2016-11-02T16:31:...|hillary goes abso...|print hillary goe...| english|100percentfedup.com|http://bb4sp.com/...|bias| Real|   hillary goes abso...|  print hillary goe...|       1|\n",
      "|              Fed Up|2016-11-04T19:40:...|breaking nypd rea...|breaking nypd rea...| english|100percentfedup.com|http://100percent...|bias| Real|   breaking nypd rea...|  breaking nypd rea...|       1|\n",
      "|              Fed Up|2016-11-05T01:19:...|wow whistleblower...|breaking nypd rea...| english|100percentfedup.com|http://100percent...|bias| Real|   wow whistleblower...|  breaking nypd rea...|       1|\n",
      "|              Fed Up|2016-11-06T23:54:...|breaking clinton ...|limbaugh said tha...| english|100percentfedup.com|http://100percent...|bias| Real|   breaking clinton ...|  limbaugh said rev...|       1|\n",
      "|              Fed Up|2016-11-07T02:43:...|evil hillary supp...|email \\nthese peo...| english|100percentfedup.com|http://100percent...|bias| Real|   evil hillary supp...|  email people sick...|       1|\n",
      "|            EdJenner|2016-11-07T22:34:...|yikes hillary goe...|who comedian \\nwh...| english|100percentfedup.com|http://conservati...|bias| Real|   yikes hillary goe...|  comedian would mo...|       1|\n",
      "|              Fed Up|2016-11-09T17:28:...|say goodbye these...|students expresse...| english|100percentfedup.com|http://100percent...|bias| Real|   say goodbye holly...|  students expresse...|       1|\n",
      "|            EdJenner|2016-11-10T02:37:...|not kidding colle...|email for republi...| english|100percentfedup.com|http://conservati...|bias| Real|   kidding colleges ...|  email republican ...|       1|\n",
      "|              Fed Up|2016-11-10T15:38:...|boom math shows t...|copyright   perce...| english|100percentfedup.com|http://100percent...|bias| Real|   boom math shows t...|  copyright percent...|       1|\n",
      "|              Fed Up|2016-11-11T15:13:...|boom this is how ...|go to article a t...| english|100percentfedup.com|http://100percent...|bias| Real|   boom president re...|  go article trump ...|       1|\n",
      "|            EdJenner|2016-11-12T06:16:...|trump supporter g...|copyright   perce...| english|100percentfedup.com|http://conservati...|bias| Real|   trump supporter g...|  copyright percent...|       1|\n",
      "|              Fed Up|2016-11-10T08:41:...|tomi lahren has s...|go to article don...| english|100percentfedup.com|http://100percent...|bias| Real|   tomi lahren speci...|  go article donald...|       1|\n",
      "|            EdJenner|2016-11-12T19:55:...|boycottcomedianro...|john mcnaughton i...| english|100percentfedup.com|http://conservati...|bias| Real|   boycottcomedianro...|  john mcnaughton s...|       1|\n",
      "|            EdJenner|2016-11-13T06:02:...|hes never sold an...|go to article dea...| english|100percentfedup.com|http://conservati...|bias| Real|   hes never sold or...|  go article dear a...|       1|\n",
      "|            EdJenner|2016-11-13T06:02:...|sorry liberalsyou...|mark cuban has ma...| english|100percentfedup.com|http://conservati...|bias| Real|   sorry liberalsyou...|  mark cuban made s...|       1|\n",
      "+--------------------+--------------------+--------------------+--------------------+--------+-------------------+--------------------+----+-----+-----------------------+----------------------+--------+\n",
      "only showing top 20 rows\n",
      "\n",
      "WELFake_Dataset\n",
      "+--------------------+--------------------+-----+\n",
      "|               title|                text|label|\n",
      "+--------------------+--------------------+-----+\n",
      "|LAW ENFORCEMENT O...|No comment is exp...| Real|\n",
      "|            No_title|Did they post the...| Real|\n",
      "|UNBELIEVABLE! OBA...| Now, most of the...| Real|\n",
      "|Bobby Jindal, rai...|A dozen political...| Fake|\n",
      "|SATAN 2: Russia u...|The RS-28 Sarmat ...| Real|\n",
      "|About Time! Chris...|All we can say on...| Real|\n",
      "|DR BEN CARSON TAR...|DR. BEN CARSON TE...| Real|\n",
      "|HOUSE INTEL CHAIR...|                    | Real|\n",
      "|Sports Bar Owner ...|The owner of the ...| Real|\n",
      "|Latest Pipeline L...|FILE – In this Se...| Real|\n",
      "| GOP Senator Just...|The most punchabl...| Real|\n",
      "|May Brexit offer ...|BRUSSELS (Reuters...| Fake|\n",
      "|Schumer calls on ...|WASHINGTON (Reute...| Fake|\n",
      "|WATCH: HILARIOUS ...|After watching th...| Real|\n",
      "|No Change Expecte...|As more and more ...| Fake|\n",
      "|Billionaire Odebr...|RIO DE JANEIRO/SA...| Fake|\n",
      "|BRITISH WOMAN LOS...|Europe is likely ...| Real|\n",
      "|U.N. seeks humani...|GENEVA (Reuters) ...| Fake|\n",
      "|MAJOR LIBERAL RAG...|The Atlantic, a p...| Real|\n",
      "|Second judge says...|NEW YORK (Reuters...| Fake|\n",
      "+--------------------+--------------------+-----+\n",
      "only showing top 20 rows\n",
      "\n"
     ]
    }
   ],
   "source": [
    "\n",
    "\n",
    "spark = SparkSession.builder \\\n",
    "    .appName(\"CSV to DataFrame\") \\\n",
    "    .getOrCreate()\n",
    "\n",
    "df_fake = spark.read.csv(\"fake.csv\", header=True, inferSchema=True)\n",
    "df_fake_or_real = spark.read.csv(\n",
    "    \"fake_or_real_news.csv\",\n",
    "    header=True,  # Assumes the first line of the file contains headers\n",
    "    inferSchema=True,  # Automatically infers column types\n",
    "    quote='\"',  # Specifies the quote character\n",
    "    escape='\"',  # Specifies the escape character\n",
    "    multiLine=True  # Allows for parsing of multiline fields\n",
    ")\n",
    "df_news_articles = spark.read.csv(\n",
    "    \"news_articles.csv\",\n",
    "    header=True,  # Assumes the first line of the file contains headers\n",
    "    inferSchema=True,  # Automatically infers column types\n",
    "    quote='\"',  # Specifies the quote character\n",
    "    escape='\"',  # Specifies the escape character\n",
    "    multiLine=True  # Allows for parsing of multiline fields\n",
    ")\n",
    "df_WELFake_Dataset = spark.read.csv(\n",
    "    \"WELFake_Dataset.csv\",\n",
    "    header=True,  # Assumes the first line of the file contains headers\n",
    "    inferSchema=True,  # Automatically infers column types\n",
    "    quote='\"',  # Specifies the quote character\n",
    "    escape='\"',  # Specifies the escape character\n",
    "    multiLine=True  # Allows for parsing of multiline fields\n",
    ")\n",
    "print(\"CSV FAKE\")\n",
    "df_fake.show()\n",
    "print(\"fake_or_real_news\")\n",
    "df_fake_or_real.show()\n",
    "print(\"news_articles\")\n",
    "df_news_articles.show()\n",
    "print(\"WELFake_Dataset\")\n",
    "df_WELFake_Dataset.show()\n",
    "\n"
   ]
  },
  {
   "cell_type": "code",
   "execution_count": 52,
   "metadata": {},
   "outputs": [
    {
     "name": "stdout",
     "output_type": "stream",
     "text": [
      "+--------------------+--------------------+------+\n",
      "|               title|                text| label|\n",
      "+--------------------+--------------------+------+\n",
      "| be it public or ...| to land. Be it beef| beans|\n",
      "| be it public or ...| to land. Be it beef| beans|\n",
      "+--------------------+--------------------+------+\n",
      "\n",
      "+--------------------+\n",
      "|               label|\n",
      "+--------------------+\n",
      "| даже невзирая на...|\n",
      "| насколько мы пон...|\n",
      "| I saw his hands ...|\n",
      "| you will find th...|\n",
      "|               beans|\n",
      "| makeshift rafts ...|\n",
      "| abortion……. I’ve...|\n",
      "|       to never hear|\n",
      "| to take over con...|\n",
      "| и для моих колле...|\n",
      "| fluoride water a...|\n",
      "| than followers o...|\n",
      "| and they are sti...|\n",
      "|     pastor and wife|\n",
      "| and execute a co...|\n",
      "| just as Wednesda...|\n",
      "| чтобы включить к...|\n",
      "|     опять обогатить|\n",
      "| the acting chair...|\n",
      "|             jewelry|\n",
      "+--------------------+\n",
      "only showing top 20 rows\n",
      "\n"
     ]
    }
   ],
   "source": [
    "df_WELFake_Dataset.where(col(\"label\").like(\"%beans%\")).show()\n",
    "\n",
    "df_WELFake_Dataset.select('label').distinct().show()"
   ]
  },
  {
   "cell_type": "markdown",
   "metadata": {},
   "source": [
    "## Estandarización de esquemas: Titulo, texto, label"
   ]
  },
  {
   "cell_type": "code",
   "execution_count": 59,
   "metadata": {},
   "outputs": [
    {
     "name": "stdout",
     "output_type": "stream",
     "text": [
      "WELFake_Dataset\n",
      "63580\n"
     ]
    }
   ],
   "source": [
    "#### 1 = Fake\n",
    "#### 0 = Real\n",
    "\n",
    "df_fake_est = df_fake.select(\"title\", \"text\")\n",
    "df_fake_est = df_fake_est.withColumn(\"label\", lit('FAKE'))\n",
    "df_fake_est = df_fake_est.withColumn(\"Label_bin\", lit(1))\n",
    "\n",
    "df_fake_or_real_est = df_fake_or_real.select(\"title\", \"text\",  \"label\")\n",
    "df_fake_or_real_est = df_fake_or_real_est.withColumn(\n",
    "    \"Label_bin\",\n",
    "    when(col(\"label\") == \"FAKE\", 1).otherwise(0)\n",
    ")\n",
    "\n",
    "df_news_articles_est = df_news_articles.select(\"title\", \"text\",  \"label\").where(col(\"label\") != \"NULL\")\n",
    "df_news_articles_est = df_news_articles_est.withColumn(\n",
    "    \"Label_bin\",\n",
    "    when(col(\"label\") == \"Fake\", 1).otherwise(0)\n",
    ")\n",
    "\n",
    "df_WELFake_Dataset_est = df_WELFake_Dataset.select(\"title\", \"text\",  \"label\").where((col(\"label\") == \"Fake\") | (col(\"label\") == \"Real\"))\n",
    "df_WELFake_Dataset_est = df_WELFake_Dataset_est.withColumn(\n",
    "    \"Label_bin\",\n",
    "    when(col(\"label\") == \"Fake\", 1).otherwise(0)\n",
    ")\n",
    "\n",
    "print(\"WELFake_Dataset\")\n",
    "print(df_WELFake_Dataset_est.dropDuplicates(['title','text']).count())\n"
   ]
  },
  {
   "cell_type": "code",
   "execution_count": 54,
   "metadata": {},
   "outputs": [],
   "source": [
    "combined_df = df_fake_or_real_est.union(df_news_articles_est.union(df_WELFake_Dataset_est.union(df_fake_est)))"
   ]
  },
  {
   "cell_type": "markdown",
   "metadata": {},
   "source": [
    "## Verificación de duplicados y labels consistentes"
   ]
  },
  {
   "cell_type": "code",
   "execution_count": 55,
   "metadata": {},
   "outputs": [
    {
     "name": "stdout",
     "output_type": "stream",
     "text": [
      "Distinct labels\n"
     ]
    },
    {
     "name": "stdout",
     "output_type": "stream",
     "text": [
      "+---------+\n",
      "|Label_bin|\n",
      "+---------+\n",
      "|        1|\n",
      "|        0|\n",
      "+---------+\n",
      "\n"
     ]
    }
   ],
   "source": [
    "print(\"Distinct labels\")\n",
    "diff_labels = combined_df.select('Label_bin').distinct().show()\n",
    "\n",
    "combined_df = combined_df.dropDuplicates(['title','text'])\n"
   ]
  },
  {
   "cell_type": "code",
   "execution_count": 56,
   "metadata": {},
   "outputs": [],
   "source": [
    "combined_df = combined_df.select('title','text',col('Label_bin').alias(\"label\"))\n"
   ]
  },
  {
   "cell_type": "code",
   "execution_count": 57,
   "metadata": {},
   "outputs": [
    {
     "name": "stdout",
     "output_type": "stream",
     "text": [
      "DF_combinado\n",
      "66568\n",
      "CSV FAKE\n",
      "23489\n",
      "fake_or_real_news\n",
      "6335\n",
      "news_articles\n",
      "2096\n",
      "WELFake_Dataset\n",
      "78227\n"
     ]
    }
   ],
   "source": [
    "print(\"DF_combinado\")\n",
    "print(combined_df.count())\n",
    "print(\"CSV FAKE\")\n",
    "print(df_fake.count())\n",
    "print(\"fake_or_real_news\")\n",
    "print(df_fake_or_real.count())\n",
    "print(\"news_articles\")\n",
    "print(df_news_articles.count())\n",
    "print(\"WELFake_Dataset\")\n",
    "print(df_WELFake_Dataset.count())"
   ]
  },
  {
   "cell_type": "markdown",
   "metadata": {},
   "source": [
    "## Guardar como parquet"
   ]
  },
  {
   "cell_type": "code",
   "execution_count": 58,
   "metadata": {},
   "outputs": [
    {
     "ename": "AnalysisException",
     "evalue": "[PATH_ALREADY_EXISTS] Path file:/D:/Universidad/Maestria ciencias de los datos y analitica/Mineria en grandes volumenes de informacion/Proyecto final mineria/Base_news already exists. Set mode as \"overwrite\" to overwrite the existing path.",
     "output_type": "error",
     "traceback": [
      "\u001b[1;31m---------------------------------------------------------------------------\u001b[0m",
      "\u001b[1;31mAnalysisException\u001b[0m                         Traceback (most recent call last)",
      "Cell \u001b[1;32mIn[58], line 1\u001b[0m\n\u001b[1;32m----> 1\u001b[0m \u001b[43mcombined_df\u001b[49m\u001b[38;5;241;43m.\u001b[39;49m\u001b[43mwrite\u001b[49m\u001b[38;5;241;43m.\u001b[39;49m\u001b[43mparquet\u001b[49m\u001b[43m(\u001b[49m\u001b[38;5;124;43mr\u001b[39;49m\u001b[38;5;124;43m\"\u001b[39;49m\u001b[38;5;124;43mD:\u001b[39;49m\u001b[38;5;124;43m\\\u001b[39;49m\u001b[38;5;124;43mUniversidad\u001b[39;49m\u001b[38;5;124;43m\\\u001b[39;49m\u001b[38;5;124;43mMaestria ciencias de los datos y analitica\u001b[39;49m\u001b[38;5;124;43m\\\u001b[39;49m\u001b[38;5;124;43mMineria en grandes volumenes de informacion\u001b[39;49m\u001b[38;5;124;43m\\\u001b[39;49m\u001b[38;5;124;43mProyecto final mineria\u001b[39;49m\u001b[38;5;124;43m\\\u001b[39;49m\u001b[38;5;124;43mBase_news\u001b[39;49m\u001b[38;5;124;43m\"\u001b[39;49m\u001b[43m)\u001b[49m\n",
      "File \u001b[1;32mc:\\Users\\Ales9914\\Desktop\\Prueba_venv\\lib\\site-packages\\pyspark\\sql\\readwriter.py:1721\u001b[0m, in \u001b[0;36mDataFrameWriter.parquet\u001b[1;34m(self, path, mode, partitionBy, compression)\u001b[0m\n\u001b[0;32m   1719\u001b[0m     \u001b[38;5;28mself\u001b[39m\u001b[38;5;241m.\u001b[39mpartitionBy(partitionBy)\n\u001b[0;32m   1720\u001b[0m \u001b[38;5;28mself\u001b[39m\u001b[38;5;241m.\u001b[39m_set_opts(compression\u001b[38;5;241m=\u001b[39mcompression)\n\u001b[1;32m-> 1721\u001b[0m \u001b[38;5;28;43mself\u001b[39;49m\u001b[38;5;241;43m.\u001b[39;49m\u001b[43m_jwrite\u001b[49m\u001b[38;5;241;43m.\u001b[39;49m\u001b[43mparquet\u001b[49m\u001b[43m(\u001b[49m\u001b[43mpath\u001b[49m\u001b[43m)\u001b[49m\n",
      "File \u001b[1;32mc:\\Users\\Ales9914\\Desktop\\Prueba_venv\\lib\\site-packages\\py4j\\java_gateway.py:1322\u001b[0m, in \u001b[0;36mJavaMember.__call__\u001b[1;34m(self, *args)\u001b[0m\n\u001b[0;32m   1316\u001b[0m command \u001b[38;5;241m=\u001b[39m proto\u001b[38;5;241m.\u001b[39mCALL_COMMAND_NAME \u001b[38;5;241m+\u001b[39m\\\n\u001b[0;32m   1317\u001b[0m     \u001b[38;5;28mself\u001b[39m\u001b[38;5;241m.\u001b[39mcommand_header \u001b[38;5;241m+\u001b[39m\\\n\u001b[0;32m   1318\u001b[0m     args_command \u001b[38;5;241m+\u001b[39m\\\n\u001b[0;32m   1319\u001b[0m     proto\u001b[38;5;241m.\u001b[39mEND_COMMAND_PART\n\u001b[0;32m   1321\u001b[0m answer \u001b[38;5;241m=\u001b[39m \u001b[38;5;28mself\u001b[39m\u001b[38;5;241m.\u001b[39mgateway_client\u001b[38;5;241m.\u001b[39msend_command(command)\n\u001b[1;32m-> 1322\u001b[0m return_value \u001b[38;5;241m=\u001b[39m \u001b[43mget_return_value\u001b[49m\u001b[43m(\u001b[49m\n\u001b[0;32m   1323\u001b[0m \u001b[43m    \u001b[49m\u001b[43manswer\u001b[49m\u001b[43m,\u001b[49m\u001b[43m \u001b[49m\u001b[38;5;28;43mself\u001b[39;49m\u001b[38;5;241;43m.\u001b[39;49m\u001b[43mgateway_client\u001b[49m\u001b[43m,\u001b[49m\u001b[43m \u001b[49m\u001b[38;5;28;43mself\u001b[39;49m\u001b[38;5;241;43m.\u001b[39;49m\u001b[43mtarget_id\u001b[49m\u001b[43m,\u001b[49m\u001b[43m \u001b[49m\u001b[38;5;28;43mself\u001b[39;49m\u001b[38;5;241;43m.\u001b[39;49m\u001b[43mname\u001b[49m\u001b[43m)\u001b[49m\n\u001b[0;32m   1325\u001b[0m \u001b[38;5;28;01mfor\u001b[39;00m temp_arg \u001b[38;5;129;01min\u001b[39;00m temp_args:\n\u001b[0;32m   1326\u001b[0m     \u001b[38;5;28;01mif\u001b[39;00m \u001b[38;5;28mhasattr\u001b[39m(temp_arg, \u001b[38;5;124m\"\u001b[39m\u001b[38;5;124m_detach\u001b[39m\u001b[38;5;124m\"\u001b[39m):\n",
      "File \u001b[1;32mc:\\Users\\Ales9914\\Desktop\\Prueba_venv\\lib\\site-packages\\pyspark\\errors\\exceptions\\captured.py:185\u001b[0m, in \u001b[0;36mcapture_sql_exception.<locals>.deco\u001b[1;34m(*a, **kw)\u001b[0m\n\u001b[0;32m    181\u001b[0m converted \u001b[38;5;241m=\u001b[39m convert_exception(e\u001b[38;5;241m.\u001b[39mjava_exception)\n\u001b[0;32m    182\u001b[0m \u001b[38;5;28;01mif\u001b[39;00m \u001b[38;5;129;01mnot\u001b[39;00m \u001b[38;5;28misinstance\u001b[39m(converted, UnknownException):\n\u001b[0;32m    183\u001b[0m     \u001b[38;5;66;03m# Hide where the exception came from that shows a non-Pythonic\u001b[39;00m\n\u001b[0;32m    184\u001b[0m     \u001b[38;5;66;03m# JVM exception message.\u001b[39;00m\n\u001b[1;32m--> 185\u001b[0m     \u001b[38;5;28;01mraise\u001b[39;00m converted \u001b[38;5;28;01mfrom\u001b[39;00m \u001b[38;5;28;01mNone\u001b[39;00m\n\u001b[0;32m    186\u001b[0m \u001b[38;5;28;01melse\u001b[39;00m:\n\u001b[0;32m    187\u001b[0m     \u001b[38;5;28;01mraise\u001b[39;00m\n",
      "\u001b[1;31mAnalysisException\u001b[0m: [PATH_ALREADY_EXISTS] Path file:/D:/Universidad/Maestria ciencias de los datos y analitica/Mineria en grandes volumenes de informacion/Proyecto final mineria/Base_news already exists. Set mode as \"overwrite\" to overwrite the existing path."
     ]
    }
   ],
   "source": [
    "combined_df.write.parquet(r\"D:\\Universidad\\Maestria ciencias de los datos y analitica\\Mineria en grandes volumenes de informacion\\Proyecto final mineria\\Base_news\")"
   ]
  }
 ],
 "metadata": {
  "kernelspec": {
   "display_name": "Python 3",
   "language": "python",
   "name": "python3"
  },
  "language_info": {
   "codemirror_mode": {
    "name": "ipython",
    "version": 3
   },
   "file_extension": ".py",
   "mimetype": "text/x-python",
   "name": "python",
   "nbconvert_exporter": "python",
   "pygments_lexer": "ipython3",
   "version": "3.9.13"
  }
 },
 "nbformat": 4,
 "nbformat_minor": 2
}
