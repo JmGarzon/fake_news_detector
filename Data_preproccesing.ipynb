{
 "cells": [
  {
   "cell_type": "code",
   "execution_count": 94,
   "metadata": {},
   "outputs": [],
   "source": [
    "from pyspark.sql.functions import lit\n",
    "from pyspark.sql.functions import when, col, count\n",
    "from pyspark.sql import SparkSession\n",
    "import os\n",
    "from pyspark.sql import functions as F"
   ]
  },
  {
   "cell_type": "code",
   "execution_count": 95,
   "metadata": {},
   "outputs": [
    {
     "name": "stdout",
     "output_type": "stream",
     "text": [
      "CSV FAKE\n",
      "+--------------------+--------------------+-------+-----------------+\n",
      "|               title|                text|subject|             date|\n",
      "+--------------------+--------------------+-------+-----------------+\n",
      "| Donald Trump Sen...|Donald Trump just...|   News|December 31, 2017|\n",
      "| Drunk Bragging T...|House Intelligenc...|   News|December 31, 2017|\n",
      "| Sheriff David Cl...|On Friday, it was...|   News|December 30, 2017|\n",
      "| Trump Is So Obse...|On Christmas day,...|   News|December 29, 2017|\n",
      "| Pope Francis Jus...|Pope Francis used...|   News|December 25, 2017|\n",
      "| Racist Alabama C...|The number of cas...|   News|December 25, 2017|\n",
      "| Fresh Off The Go...|Donald Trump spen...|   News|December 23, 2017|\n",
      "| Trump Said Some ...|In the wake of ye...|   News|December 23, 2017|\n",
      "| Former CIA Direc...|Many people have ...|   News|December 22, 2017|\n",
      "| WATCH: Brand-New...|Just when you mig...|   News|December 21, 2017|\n",
      "| Papa John’s Foun...|A centerpiece of ...|   News|December 21, 2017|\n",
      "| WATCH: Paul Ryan...|Republicans are w...|   News|December 21, 2017|\n",
      "| Bad News For Tru...|Republicans have ...|   News|December 21, 2017|\n",
      "| WATCH: Lindsey G...|The media has bee...|   News|December 20, 2017|\n",
      "| Heiress To Disne...|Abigail Disney is...|   News|December 20, 2017|\n",
      "| Tone Deaf Trump:...|Donald Trump just...|   News|December 20, 2017|\n",
      "| The Internet Bru...|A new animatronic...|   News|December 19, 2017|\n",
      "| Mueller Spokesma...|Trump supporters ...|   News|December 17, 2017|\n",
      "| SNL Hilariously ...|Right now, the wh...|   News|December 17, 2017|\n",
      "| Republican Senat...|Senate Majority W...|   News|December 16, 2017|\n",
      "+--------------------+--------------------+-------+-----------------+\n",
      "only showing top 20 rows\n",
      "\n",
      "CSV TRUE\n",
      "+--------------------+--------------------+--------------------+------------------+\n",
      "|               title|                text|             subject|              date|\n",
      "+--------------------+--------------------+--------------------+------------------+\n",
      "|As U.S. budget fi...|WASHINGTON (Reute...|        politicsNews|December 31, 2017 |\n",
      "|U.S. military to ...|WASHINGTON (Reute...|        politicsNews|December 29, 2017 |\n",
      "|Senior U.S. Repub...|WASHINGTON (Reute...|        politicsNews|December 31, 2017 |\n",
      "|FBI Russia probe ...|WASHINGTON (Reute...|        politicsNews|December 30, 2017 |\n",
      "|Trump wants Posta...|SEATTLE/WASHINGTO...|        politicsNews|December 29, 2017 |\n",
      "|White House, Cong...|WEST PALM BEACH, ...|        politicsNews|December 29, 2017 |\n",
      "|Trump says Russia...|WEST PALM BEACH, ...|        politicsNews|December 29, 2017 |\n",
      "|Factbox: Trump on...|The following sta...|        politicsNews|December 29, 2017 |\n",
      "|Trump on Twitter ...|The following sta...|        politicsNews|December 29, 2017 |\n",
      "|Alabama official ...|WASHINGTON (Reute...|        politicsNews|December 28, 2017 |\n",
      "|Jones certified U...|(Reuters) - Alaba...|        politicsNews|December 28, 2017 |\n",
      "|New York governor...|NEW YORK/WASHINGT...|        politicsNews|December 28, 2017 |\n",
      "|Factbox: Trump on...|The following sta...|        politicsNews|December 28, 2017 |\n",
      "|Trump on Twitter ...|\"The following st...| Associates Up 83...|      politicsNews|\n",
      "|Man says he deliv...| (In Dec. 25 stor...|        politicsNews|December 25, 2017 |\n",
      "|Virginia official...|(Reuters) - A lot...|        politicsNews|December 27, 2017 |\n",
      "|U.S. lawmakers qu...|WASHINGTON (Reute...|        politicsNews|December 27, 2017 |\n",
      "|Trump on Twitter ...|The following sta...|        politicsNews|December 26, 2017 |\n",
      "|U.S. appeals cour...|(Reuters) - A U.S...|        politicsNews|December 26, 2017 |\n",
      "|Treasury Secretar...|(Reuters) - A gif...|        politicsNews|December 24, 2017 |\n",
      "+--------------------+--------------------+--------------------+------------------+\n",
      "only showing top 20 rows\n",
      "\n",
      "fake_or_real_news\n",
      "+-----+--------------------+--------------------+-----+\n",
      "|   ID|               title|                text|label|\n",
      "+-----+--------------------+--------------------+-----+\n",
      "| 8476|You Can Smell Hil...|Daniel Greenfield...| FAKE|\n",
      "|10294|Watch The Exact M...|Google Pinterest ...| FAKE|\n",
      "| 3608|Kerry to go to Pa...|U.S. Secretary of...| REAL|\n",
      "|10142|Bernie supporters...|— Kaydee King (@K...| FAKE|\n",
      "|  875|The Battle of New...|It's primary day ...| REAL|\n",
      "| 6903|         Tehran, USA|  \\nI’m not an im...| FAKE|\n",
      "| 7341|Girl Horrified At...|Share This Baylee...| FAKE|\n",
      "|   95|‘Britain’s Schind...|A Czech stockbrok...| REAL|\n",
      "| 4869|Fact check: Trump...|Hillary Clinton a...| REAL|\n",
      "| 2909|Iran reportedly m...|Iranian negotiato...| REAL|\n",
      "| 1357|With all three Cl...|CEDAR RAPIDS, Iow...| REAL|\n",
      "|  988|Donald Trump’s Sh...|Donald Trump’s or...| REAL|\n",
      "| 7041|Strong Solar Stor...|Click Here To Lea...| FAKE|\n",
      "| 7623|10 Ways America I...|October 31, 2016 ...| FAKE|\n",
      "| 1571|Trump takes on Cr...|Killing Obama adm...| REAL|\n",
      "| 4739|How women lead di...|As more women mov...| REAL|\n",
      "| 7737|Shocking! Michele...|Shocking! Michele...| FAKE|\n",
      "| 8716|Hillary Clinton i...|0 \\nHillary Clint...| FAKE|\n",
      "| 3304|What's in that Ir...|Washington (CNN) ...| REAL|\n",
      "| 3078|The 1 chart that ...|While paging thro...| REAL|\n",
      "+-----+--------------------+--------------------+-----+\n",
      "only showing top 20 rows\n",
      "\n",
      "news_articles\n",
      "+--------------------+--------------------+--------------------+--------------------+--------+-------------------+--------------------+----+-----+-----------------------+----------------------+--------+\n",
      "|              author|           published|               title|                text|language|           site_url|        main_img_url|type|label|title_without_stopwords|text_without_stopwords|hasImage|\n",
      "+--------------------+--------------------+--------------------+--------------------+--------+-------------------+--------------------+----+-----+-----------------------+----------------------+--------+\n",
      "|   Barracuda Brigade|2016-10-26T21:41:...|muslims busted th...|print they should...| english|100percentfedup.com|http://bb4sp.com/...|bias| Real|   muslims busted st...|  print pay back mo...|       1|\n",
      "|reasoning with facts|2016-10-29T08:47:...|re why did attorn...|why did attorney ...| english|100percentfedup.com|http://bb4sp.com/...|bias| Real|   attorney general ...|  attorney general ...|       1|\n",
      "|   Barracuda Brigade|2016-10-31T01:41:...|breaking weiner c...|red state  \\nfox ...| english|100percentfedup.com|http://bb4sp.com/...|bias| Real|   breaking weiner c...|  red state fox new...|       1|\n",
      "|              Fed Up|2016-11-01T05:22:...|pin drop speech b...|email kayla muell...| english|100percentfedup.com|http://100percent...|bias| Real|   pin drop speech f...|  email kayla muell...|       1|\n",
      "|              Fed Up|2016-11-01T21:56:...|fantastic trumps ...|email healthcare ...| english|100percentfedup.com|http://100percent...|bias| Real|   fantastic trumps ...|  email healthcare ...|       1|\n",
      "|   Barracuda Brigade|2016-11-02T16:31:...|hillary goes abso...|print hillary goe...| english|100percentfedup.com|http://bb4sp.com/...|bias| Real|   hillary goes abso...|  print hillary goe...|       1|\n",
      "|              Fed Up|2016-11-04T19:40:...|breaking nypd rea...|breaking nypd rea...| english|100percentfedup.com|http://100percent...|bias| Real|   breaking nypd rea...|  breaking nypd rea...|       1|\n",
      "|              Fed Up|2016-11-05T01:19:...|wow whistleblower...|breaking nypd rea...| english|100percentfedup.com|http://100percent...|bias| Real|   wow whistleblower...|  breaking nypd rea...|       1|\n",
      "|              Fed Up|2016-11-06T23:54:...|breaking clinton ...|limbaugh said tha...| english|100percentfedup.com|http://100percent...|bias| Real|   breaking clinton ...|  limbaugh said rev...|       1|\n",
      "|              Fed Up|2016-11-07T02:43:...|evil hillary supp...|email \\nthese peo...| english|100percentfedup.com|http://100percent...|bias| Real|   evil hillary supp...|  email people sick...|       1|\n",
      "|            EdJenner|2016-11-07T22:34:...|yikes hillary goe...|who comedian \\nwh...| english|100percentfedup.com|http://conservati...|bias| Real|   yikes hillary goe...|  comedian would mo...|       1|\n",
      "|              Fed Up|2016-11-09T17:28:...|say goodbye these...|students expresse...| english|100percentfedup.com|http://100percent...|bias| Real|   say goodbye holly...|  students expresse...|       1|\n",
      "|            EdJenner|2016-11-10T02:37:...|not kidding colle...|email for republi...| english|100percentfedup.com|http://conservati...|bias| Real|   kidding colleges ...|  email republican ...|       1|\n",
      "|              Fed Up|2016-11-10T15:38:...|boom math shows t...|copyright   perce...| english|100percentfedup.com|http://100percent...|bias| Real|   boom math shows t...|  copyright percent...|       1|\n",
      "|              Fed Up|2016-11-11T15:13:...|boom this is how ...|go to article a t...| english|100percentfedup.com|http://100percent...|bias| Real|   boom president re...|  go article trump ...|       1|\n",
      "|            EdJenner|2016-11-12T06:16:...|trump supporter g...|copyright   perce...| english|100percentfedup.com|http://conservati...|bias| Real|   trump supporter g...|  copyright percent...|       1|\n",
      "|              Fed Up|2016-11-10T08:41:...|tomi lahren has s...|go to article don...| english|100percentfedup.com|http://100percent...|bias| Real|   tomi lahren speci...|  go article donald...|       1|\n",
      "|            EdJenner|2016-11-12T19:55:...|boycottcomedianro...|john mcnaughton i...| english|100percentfedup.com|http://conservati...|bias| Real|   boycottcomedianro...|  john mcnaughton s...|       1|\n",
      "|            EdJenner|2016-11-13T06:02:...|hes never sold an...|go to article dea...| english|100percentfedup.com|http://conservati...|bias| Real|   hes never sold or...|  go article dear a...|       1|\n",
      "|            EdJenner|2016-11-13T06:02:...|sorry liberalsyou...|mark cuban has ma...| english|100percentfedup.com|http://conservati...|bias| Real|   sorry liberalsyou...|  mark cuban made s...|       1|\n",
      "+--------------------+--------------------+--------------------+--------------------+--------+-------------------+--------------------+----+-----+-----------------------+----------------------+--------+\n",
      "only showing top 20 rows\n",
      "\n",
      "WELFake_Dataset\n",
      "+---+--------------------+--------------------+-----+\n",
      "|_c0|               title|                text|label|\n",
      "+---+--------------------+--------------------+-----+\n",
      "|  0|LAW ENFORCEMENT O...|No comment is exp...|    1|\n",
      "|  1|                NULL|Did they post the...|    1|\n",
      "|  2|UNBELIEVABLE! OBA...| Now, most of the...|    1|\n",
      "|  3|Bobby Jindal, rai...|A dozen political...|    0|\n",
      "|  4|SATAN 2: Russia u...|The RS-28 Sarmat ...|    1|\n",
      "|  5|About Time! Chris...|All we can say on...|    1|\n",
      "|  6|DR BEN CARSON TAR...|DR. BEN CARSON TE...|    1|\n",
      "|  7|HOUSE INTEL CHAIR...|                    |    1|\n",
      "|  8|Sports Bar Owner ...|The owner of the ...|    1|\n",
      "|  9|Latest Pipeline L...|FILE – In this Se...|    1|\n",
      "| 10| GOP Senator Just...|The most punchabl...|    1|\n",
      "| 11|May Brexit offer ...|BRUSSELS (Reuters...|    0|\n",
      "| 12|Schumer calls on ...|WASHINGTON (Reute...|    0|\n",
      "| 13|WATCH: HILARIOUS ...|After watching th...|    1|\n",
      "| 14|No Change Expecte...|As more and more ...|    0|\n",
      "| 15|Billionaire Odebr...|RIO DE JANEIRO/SA...|    0|\n",
      "| 16|BRITISH WOMAN LOS...|Europe is likely ...|    1|\n",
      "| 17|U.N. seeks humani...|GENEVA (Reuters) ...|    0|\n",
      "| 18|MAJOR LIBERAL RAG...|The Atlantic, a p...|    1|\n",
      "| 19|Second judge says...|NEW YORK (Reuters...|    0|\n",
      "+---+--------------------+--------------------+-----+\n",
      "only showing top 20 rows\n",
      "\n"
     ]
    }
   ],
   "source": [
    "# dir_path = os.path.dirname(os.path.realpath(__file__))\n",
    "\n",
    "spark = SparkSession.builder \\\n",
    "    .appName(\"CSV to DataFrame\") \\\n",
    "    .getOrCreate()\n",
    "\n",
    "df_fake = spark.read.csv(r\"Bases_csv\\fake.csv\", header=True, inferSchema=True)\n",
    "df_true = spark.read.csv(r\"Bases_csv\\true.csv\", header=True, inferSchema=True)\n",
    "\n",
    "df_fake_or_real = spark.read.csv(\n",
    "    r\"Bases_csv\\fake_or_real_news.csv\",\n",
    "    header=True,  # Assumes the first line of the file contains headers\n",
    "    inferSchema=True,  # Automatically infers column types\n",
    "    quote='\"',  # Specifies the quote character\n",
    "    escape='\"',  # Specifies the escape character\n",
    "    multiLine=True  # Allows for parsing of multiline fields\n",
    ")\n",
    "df_news_articles = spark.read.csv(\n",
    "    r\"Bases_csv\\news_articles.csv\",\n",
    "    header=True,  # Assumes the first line of the file contains headers\n",
    "    inferSchema=True,  # Automatically infers column types\n",
    "    quote='\"',  # Specifies the quote character\n",
    "    escape='\"',  # Specifies the escape character\n",
    "    multiLine=True  # Allows for parsing of multiline fields\n",
    ")\n",
    "df_WELFake_Dataset = spark.read.csv(\n",
    "    r\"Bases_csv\\WELFake_Dataset.csv\",\n",
    "    header=True,  # Assumes the first line of the file contains headers\n",
    "    inferSchema=True,  # Automatically infers column types\n",
    "    quote='\"',  # Specifies the quote character\n",
    "    escape='\"',  # Specifies the escape character\n",
    "    multiLine=True  # Allows for parsing of multiline fields\n",
    ")\n",
    "print(\"CSV FAKE\")\n",
    "df_fake.show()\n",
    "print(\"CSV TRUE\")\n",
    "df_true.show()\n",
    "print(\"fake_or_real_news\")\n",
    "df_fake_or_real.show()\n",
    "print(\"news_articles\")\n",
    "df_news_articles.show()\n",
    "print(\"WELFake_Dataset\")\n",
    "df_WELFake_Dataset.show()\n",
    "\n"
   ]
  },
  {
   "cell_type": "markdown",
   "metadata": {},
   "source": [
    "## Estandarización de esquemas: Titulo, texto, label"
   ]
  },
  {
   "cell_type": "code",
   "execution_count": 96,
   "metadata": {},
   "outputs": [],
   "source": [
    "#### 1 = Fake\n",
    "#### 0 = Real\n",
    "\n",
    "df_fake_est = df_fake.select(\"title\", \"text\")\n",
    "df_fake_est = df_fake_est.withColumn(\"label\", lit('FAKE'))\n",
    "df_fake_est = df_fake_est.withColumn(\"Label_bin\", lit(1))\n",
    "\n",
    "df_true_est = df_true.select(\"title\", \"text\")\n",
    "df_true_est = df_true_est.withColumn(\"label\", lit('TRUE'))\n",
    "df_true_est = df_true_est.withColumn(\"Label_bin\", lit(0))\n",
    "\n",
    "df_fake_or_real_est = df_fake_or_real.select(\"title\", \"text\",  \"label\")\n",
    "df_fake_or_real_est = df_fake_or_real_est.withColumn(\n",
    "    \"Label_bin\",\n",
    "    when(col(\"label\") == \"FAKE\", 1).otherwise(0)\n",
    ")\n",
    "\n",
    "df_news_articles_est = df_news_articles.select(\"title\", \"text\",  \"label\").where(col(\"label\") != \"NULL\")\n",
    "df_news_articles_est = df_news_articles_est.withColumn(\n",
    "    \"Label_bin\",\n",
    "    when(col(\"label\") == \"Fake\", 1).otherwise(0)\n",
    ")\n",
    "\n",
    "df_WELFake_Dataset_est = df_WELFake_Dataset.select(\"title\", \"text\", \"label\", col('label').alias(\"Label_bin\"))\n",
    "\n"
   ]
  },
  {
   "cell_type": "code",
   "execution_count": 97,
   "metadata": {},
   "outputs": [],
   "source": [
    "combined_df = df_fake_or_real_est.union(df_news_articles_est.union(df_WELFake_Dataset_est.union(df_fake_est.union(df_true_est))))\n",
    "combined_df_til_text_label= combined_df.select('title','text',col('Label_bin').alias(\"label\"))"
   ]
  },
  {
   "cell_type": "markdown",
   "metadata": {},
   "source": [
    "## Verificación de duplicados y labels consistentes"
   ]
  },
  {
   "cell_type": "code",
   "execution_count": 98,
   "metadata": {},
   "outputs": [
    {
     "name": "stdout",
     "output_type": "stream",
     "text": [
      "Distinct labels\n"
     ]
    },
    {
     "name": "stdout",
     "output_type": "stream",
     "text": [
      "+-----+\n",
      "|label|\n",
      "+-----+\n",
      "|    1|\n",
      "|    0|\n",
      "+-----+\n",
      "\n",
      "Total rows 125470\n",
      "Distinct rows 66793\n",
      "Number of duplicate rows: 58677\n"
     ]
    }
   ],
   "source": [
    "print(\"Distinct labels\")\n",
    "diff_labels = combined_df_til_text_label.select('label').distinct().show()\n",
    "# Step 1: Count total number of rows\n",
    "total_rows = combined_df_til_text_label.count()\n",
    "print(f\"Total rows {total_rows}\")\n",
    "# Step 2: Count number of distinct rows\n",
    "distinct_rows = combined_df_til_text_label.distinct().count()\n",
    "print(f\"Distinct rows {distinct_rows}\")\n",
    "# Step 3: Calculate number of duplicate rows\n",
    "duplicate_rows = total_rows - distinct_rows\n",
    "\n",
    "# Print the number of duplicate rows\n",
    "print(f\"Number of duplicate rows: {duplicate_rows}\")\n",
    "\n",
    "combined_df_distinct = combined_df_til_text_label.dropDuplicates()\n"
   ]
  },
  {
   "cell_type": "code",
   "execution_count": 99,
   "metadata": {},
   "outputs": [
    {
     "name": "stdout",
     "output_type": "stream",
     "text": [
      "DF_combinado\n"
     ]
    },
    {
     "name": "stdout",
     "output_type": "stream",
     "text": [
      "66793\n",
      "CSV FAKE\n",
      "23489\n",
      "CSV TRUE\n",
      "21417\n",
      "fake_or_real_news\n",
      "6335\n",
      "news_articles\n",
      "2096\n",
      "WELFake_Dataset\n",
      "72134\n"
     ]
    }
   ],
   "source": [
    "print(\"DF_combinado\")\n",
    "print(combined_df_distinct.count())\n",
    "print(\"CSV FAKE\")\n",
    "print(df_fake.count())\n",
    "print(\"CSV TRUE\")\n",
    "print(df_true.count())\n",
    "print(\"fake_or_real_news\")\n",
    "print(df_fake_or_real.count())\n",
    "print(\"news_articles\")\n",
    "print(df_news_articles.count())\n",
    "print(\"WELFake_Dataset\")\n",
    "print(df_WELFake_Dataset.count())"
   ]
  },
  {
   "cell_type": "markdown",
   "metadata": {},
   "source": [
    "## Guardar como parquet"
   ]
  },
  {
   "cell_type": "code",
   "execution_count": 100,
   "metadata": {},
   "outputs": [],
   "source": [
    "combined_df_distinct.write.parquet(r\"C:\\Users\\Ales9914\\Desktop\\Prueba_venv\\Unificacion_bases\\Base_news_corregido\")"
   ]
  }
 ],
 "metadata": {
  "kernelspec": {
   "display_name": "Python 3",
   "language": "python",
   "name": "python3"
  },
  "language_info": {
   "codemirror_mode": {
    "name": "ipython",
    "version": 3
   },
   "file_extension": ".py",
   "mimetype": "text/x-python",
   "name": "python",
   "nbconvert_exporter": "python",
   "pygments_lexer": "ipython3",
   "version": "3.9.13"
  }
 },
 "nbformat": 4,
 "nbformat_minor": 2
}
